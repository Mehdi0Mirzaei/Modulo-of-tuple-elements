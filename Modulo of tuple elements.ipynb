{
 "cells": [
  {
   "cell_type": "code",
   "execution_count": 13,
   "id": "0f982ec5",
   "metadata": {},
   "outputs": [
    {
     "name": "stdout",
     "output_type": "stream",
     "text": [
      "The original tuple 1 : (10, 4, 5, 6)\n",
      "The original tuple 2 : (5, 6, 7, 5)\n",
      "The modulus tuple : (0, 4, 5, 1)\n"
     ]
    }
   ],
   "source": [
    "# Initialize tuples\n",
    "test_tup1 = (10, 4, 5, 6)\n",
    "test_tup2 = (5, 6, 7, 5)\n",
    " \n",
    "# Printing original tuples\n",
    "print(\"The original tuple 1 : \" + str(test_tup1))\n",
    "print(\"The original tuple 2 : \" + str(test_tup2))\n",
    " \n",
    "# Tuple modulo\n",
    "# using zip() + generator expression\n",
    "res = tuple(ele1 % ele2 for ele1, ele2 in zip(test_tup1, test_tup2))\n",
    " \n",
    "# Printing result\n",
    "print(\"The modulus tuple : \" + str(res))"
   ]
  },
  {
   "cell_type": "code",
   "execution_count": 14,
   "id": "be0d7680",
   "metadata": {},
   "outputs": [
    {
     "name": "stdout",
     "output_type": "stream",
     "text": [
      "The original tuple 1 : (10, 4, 5, 6)\n",
      "The original tuple 2 : (5, 6, 7, 5)\n",
      "The modulus tuple : (0, 4, 5, 1)\n"
     ]
    }
   ],
   "source": [
    "# Initialize tuples\n",
    "test_tup1 = (10, 4, 5, 6)\n",
    "test_tup2 = (5, 6, 7, 5)\n",
    " \n",
    "# Printing original tuples\n",
    "print(\"The original tuple 1 : \" + str(test_tup1))\n",
    "print(\"The original tuple 2 : \" + str(test_tup2))\n",
    " \n",
    "# Tuple modulo\n",
    "res=[]\n",
    "for i in range(0,len(test_tup1)):\n",
    "    res.append(test_tup1[i]%test_tup2[i])\n",
    "res=tuple(res)\n",
    " \n",
    "# Printing result\n",
    "print(\"The modulus tuple : \" + str(res))"
   ]
  },
  {
   "cell_type": "code",
   "execution_count": 15,
   "id": "e4c2b8bd",
   "metadata": {},
   "outputs": [
    {
     "name": "stdout",
     "output_type": "stream",
     "text": [
      "The original tuple 1 : (10, 4, 5, 6)\n",
      "The original tuple 2 : (5, 6, 7, 5)\n",
      "The modulus tuple : (0, 4, 5, 1)\n"
     ]
    }
   ],
   "source": [
    "import numpy as np\n",
    " \n",
    "# initialize tuples\n",
    "test_tup1 = (10, 4, 5, 6)\n",
    "test_tup2 = (5, 6, 7, 5)\n",
    " \n",
    "# printing original tuples\n",
    "print(\"The original tuple 1 : \" + str(test_tup1))\n",
    "print(\"The original tuple 2 : \" + str(test_tup2))\n",
    " \n",
    "# Tuple modulo using numpy\n",
    "res = tuple(np.mod(test_tup1, test_tup2))\n",
    " \n",
    "# printing result\n",
    "print(\"The modulus tuple : \" + str(res))"
   ]
  },
  {
   "cell_type": "code",
   "execution_count": 16,
   "id": "06630942",
   "metadata": {},
   "outputs": [
    {
     "name": "stdout",
     "output_type": "stream",
     "text": [
      "The original tuple 1 : (10, 4, 5, 6)\n",
      "The original tuple 2 : (5, 6, 7, 5)\n",
      "The modulus tuple : (0, 4, 5, 1)\n"
     ]
    }
   ],
   "source": [
    "def modulo_tuple(t1, t2, result=()):\n",
    "    if not t1:\n",
    "        return result\n",
    "    return modulo_tuple(t1[1:], t2[1:], result + (t1[0] % t2[0],))\n",
    " \n",
    " # initialize tuples\n",
    "test_tup1 = (10, 4, 5, 6)\n",
    "test_tup2 = (5, 6, 7, 5)\n",
    " \n",
    "# printing original tuples\n",
    "print(\"The original tuple 1 : \" + str(test_tup1))\n",
    "print(\"The original tuple 2 : \" + str(test_tup2))\n",
    " \n",
    "# Tuple modulo\n",
    "result = modulo_tuple(test_tup1, test_tup2)\n",
    " \n",
    "# printing result\n",
    "print(\"The modulus tuple : \" + str(result))"
   ]
  },
  {
   "cell_type": "code",
   "execution_count": 17,
   "id": "6436a700",
   "metadata": {},
   "outputs": [
    {
     "name": "stdout",
     "output_type": "stream",
     "text": [
      "The original tuple 1 : (10, 4, 5, 6)\n",
      "The original tuple 2 : (5, 6, 7, 5)\n",
      "The modulus tuple : (5, 4, 1, 0)\n"
     ]
    }
   ],
   "source": [
    "import heapq\n",
    " \n",
    "test_tup1 = (10, 4, 5, 6)\n",
    "test_tup2 = (5, 6, 7, 5)\n",
    " \n",
    "modulus_tup = tuple(heapq.nlargest(len(test_tup1), (x % y for x, y in zip(test_tup1, test_tup2))))\n",
    " \n",
    "print(\"The original tuple 1 : \" + str(test_tup1))\n",
    "print(\"The original tuple 2 : \" + str(test_tup2))\n",
    "print(\"The modulus tuple : \" + str(modulus_tup))"
   ]
  },
  {
   "cell_type": "code",
   "execution_count": 18,
   "id": "957bb2a2",
   "metadata": {},
   "outputs": [
    {
     "name": "stdout",
     "output_type": "stream",
     "text": [
      "The original tuple 1 : (10, 4, 5, 6)\n",
      "The original tuple 2 : (5, 6, 7, 5)\n",
      "The modulus tuple : (0, 4, 5, 1)\n"
     ]
    }
   ],
   "source": [
    "# initialize tuples\n",
    "test_tup1 = (10, 4, 5, 6)\n",
    "test_tup2 = (5, 6, 7, 5)\n",
    " \n",
    "# printing original tuples\n",
    "print(\"The original tuple 1 : \" + str(test_tup1))\n",
    "print(\"The original tuple 2 : \" + str(test_tup2))\n",
    " \n",
    "# Tuple modulo\n",
    "# using List comprehension\n",
    "res = [ele1 % ele2 for ele1, ele2 in zip(test_tup1, test_tup2)]\n",
    "res = tuple(res)\n",
    " \n",
    "# printing result\n",
    "print(\"The modulus tuple : \" + str(res))"
   ]
  },
  {
   "cell_type": "code",
   "execution_count": null,
   "id": "635a62bd",
   "metadata": {},
   "outputs": [],
   "source": []
  }
 ],
 "metadata": {
  "kernelspec": {
   "display_name": "Python 3 (ipykernel)",
   "language": "python",
   "name": "python3"
  },
  "language_info": {
   "codemirror_mode": {
    "name": "ipython",
    "version": 3
   },
   "file_extension": ".py",
   "mimetype": "text/x-python",
   "name": "python",
   "nbconvert_exporter": "python",
   "pygments_lexer": "ipython3",
   "version": "3.9.13"
  }
 },
 "nbformat": 4,
 "nbformat_minor": 5
}
